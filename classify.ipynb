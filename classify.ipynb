{
 "cells": [
  {
   "cell_type": "code",
   "execution_count": 2,
   "id": "134b5513",
   "metadata": {},
   "outputs": [],
   "source": [
    "from processor_regex import classify_with_regex\n",
    "from processor_bert import classify_with_bert\n",
    "from processor_llm import classify_with_llm"
   ]
  },
  {
   "cell_type": "code",
   "execution_count": 3,
   "id": "4590054e",
   "metadata": {},
   "outputs": [],
   "source": [
    "def classify(logs):\n",
    "    labels = []\n",
    "    for source, log_msg in logs:\n",
    "        label = classify_log(source, log_msg)\n",
    "        labels.append(label)\n",
    "    return labels\n",
    "\n",
    "\n",
    "def classify_log(source, log_msg):\n",
    "    if source == \"LegacyCRM\":\n",
    "        label = classify_with_llm(log_msg)\n",
    "    else:\n",
    "        label = classify_with_regex(log_msg)\n",
    "        if not label:\n",
    "            label = classify_with_bert(log_msg)\n",
    "    return label"
   ]
  },
  {
   "cell_type": "code",
   "execution_count": 7,
   "id": "5b817683",
   "metadata": {},
   "outputs": [
    {
     "name": "stdout",
     "output_type": "stream",
     "text": [
      "c:\\Users\\Madhurima\\Downloads\\classification-logs\n"
     ]
    }
   ],
   "source": [
    "import os\n",
    "print(os.getcwd())\n"
   ]
  },
  {
   "cell_type": "code",
   "execution_count": 9,
   "id": "be18d3af",
   "metadata": {},
   "outputs": [],
   "source": [
    "def classify_csv(input_file):\n",
    "    import pandas as pd\n",
    "    df = pd.read_csv(input_file)\n",
    "\n",
    "    # Perform classification\n",
    "    df[\"target_label\"] = classify(list(zip(df[\"source\"], df[\"log_message\"])))\n",
    "\n",
    "    # Save the modified file\n",
    "    output_file = \"resources/output.csv\"\n",
    "    df.to_csv(output_file, index=False)\n",
    "\n",
    "    return output_file"
   ]
  },
  {
   "cell_type": "code",
   "execution_count": 8,
   "id": "fa6d859b",
   "metadata": {},
   "outputs": [],
   "source": [
    "if __name__ == '__main__':\n",
    "    classify_csv(\"resources/test.csv\")\n",
    "    # logs = [\n",
    "    #     (\"ModernCRM\", \"IP 192.168.133.114 blocked due to potential attack\"),\n",
    "    #     (\"BillingSystem\", \"User 12345 logged in.\"),\n",
    "    #     (\"AnalyticsEngine\", \"File data_6957.csv uploaded successfully by user User265.\"),\n",
    "    #     (\"AnalyticsEngine\", \"Backup completed successfully.\"),\n",
    "    #     (\"ModernHR\", \"GET /v2/54fadb412c4e40cdbaed9335e4c35a9e/servers/detail HTTP/1.1 RCODE  200 len: 1583 time: 0.1878400\"),\n",
    "    #     (\"ModernHR\", \"Admin access escalation detected for user 9429\"),\n",
    "    #     (\"LegacyCRM\", \"Case escalation for ticket ID 7324 failed because the assigned support agent is no longer active.\"),\n",
    "    #     (\"LegacyCRM\", \"Invoice generation process aborted for order ID 8910 due to invalid tax calculation module.\"),\n",
    "    #     (\"LegacyCRM\", \"The 'BulkEmailSender' feature is no longer supported. Use 'EmailCampaignManager' for improved functionality.\"),\n",
    "    #     (\"LegacyCRM\", \" The 'ReportGenerator' module will be retired in version 4.0. Please migrate to the 'AdvancedAnalyticsSuite' by Dec 2025\")\n",
    "    # ]\n",
    "    # labels = classify(logs)\n",
    "    #\n",
    "    # for log, label in zip(logs, labels):\n",
    "    #     print(log[0], \"->\", label)"
   ]
  },
  {
   "cell_type": "code",
   "execution_count": null,
   "id": "05086bf8",
   "metadata": {},
   "outputs": [],
   "source": []
  }
 ],
 "metadata": {
  "kernelspec": {
   "display_name": "Python 3",
   "language": "python",
   "name": "python3"
  },
  "language_info": {
   "codemirror_mode": {
    "name": "ipython",
    "version": 3
   },
   "file_extension": ".py",
   "mimetype": "text/x-python",
   "name": "python",
   "nbconvert_exporter": "python",
   "pygments_lexer": "ipython3",
   "version": "3.13.3"
  }
 },
 "nbformat": 4,
 "nbformat_minor": 5
}
