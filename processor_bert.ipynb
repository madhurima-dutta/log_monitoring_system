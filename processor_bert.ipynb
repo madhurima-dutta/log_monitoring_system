{
 "cells": [
  {
   "cell_type": "code",
   "execution_count": 9,
   "id": "4b553da3",
   "metadata": {},
   "outputs": [],
   "source": [
    "import joblib\n",
    "from sentence_transformers import SentenceTransformer"
   ]
  },
  {
   "cell_type": "code",
   "execution_count": 10,
   "id": "72f912c5",
   "metadata": {},
   "outputs": [],
   "source": [
    "model_embedding = SentenceTransformer('all-MiniLM-L6-v2')  # Lightweight embedding model\n",
    "model_classification = joblib.load(\"models/log_classifier.joblib\")"
   ]
  },
  {
   "cell_type": "code",
   "execution_count": 11,
   "id": "25961d9f",
   "metadata": {},
   "outputs": [],
   "source": [
    "def classify_with_bert(log_message):\n",
    "    embeddings = model_embedding.encode([log_message])\n",
    "    probabilities = model_classification.predict_proba(embeddings)[0]\n",
    "    if max(probabilities) < 0.5:\n",
    "        return \"Unclassified\"\n",
    "    predicted_label = model_classification.predict(embeddings)[0]\n",
    "    \n",
    "    return predicted_label"
   ]
  },
  {
   "cell_type": "code",
   "execution_count": 12,
   "id": "230afc91",
   "metadata": {},
   "outputs": [
    {
     "name": "stdout",
     "output_type": "stream",
     "text": [
      "alpha.osapi_compute.wsgi.server - 12.10.11.1 - API returned 404 not found error -> HTTP Status\n",
      "GET /v2/3454/servers/detail HTTP/1.1 RCODE   404 len: 1583 time: 0.1878400 -> HTTP Status\n",
      "System crashed due to drivers errors when restarting the server -> Critical Error\n",
      "Hey bro, chill ya! -> Unclassified\n",
      "Multiple login failures occurred on user 6454 account -> Security Alert\n",
      "Server A790 was restarted unexpectedly during the process of data transfer -> Error\n"
     ]
    }
   ],
   "source": [
    "if __name__ == \"__main__\":\n",
    "    logs = [\n",
    "        \"alpha.osapi_compute.wsgi.server - 12.10.11.1 - API returned 404 not found error\",\n",
    "        \"GET /v2/3454/servers/detail HTTP/1.1 RCODE   404 len: 1583 time: 0.1878400\",\n",
    "        \"System crashed due to drivers errors when restarting the server\",\n",
    "        \"Hey bro, chill ya!\",\n",
    "        \"Multiple login failures occurred on user 6454 account\",\n",
    "        \"Server A790 was restarted unexpectedly during the process of data transfer\"\n",
    "    ]\n",
    "    for log in logs:\n",
    "        label = classify_with_bert(log)\n",
    "        print(log, \"->\", label)"
   ]
  },
  {
   "cell_type": "code",
   "execution_count": null,
   "id": "921f1115",
   "metadata": {},
   "outputs": [],
   "source": []
  }
 ],
 "metadata": {
  "kernelspec": {
   "display_name": "Python 3",
   "language": "python",
   "name": "python3"
  },
  "language_info": {
   "codemirror_mode": {
    "name": "ipython",
    "version": 3
   },
   "file_extension": ".py",
   "mimetype": "text/x-python",
   "name": "python",
   "nbconvert_exporter": "python",
   "pygments_lexer": "ipython3",
   "version": "3.13.3"
  }
 },
 "nbformat": 4,
 "nbformat_minor": 5
}
