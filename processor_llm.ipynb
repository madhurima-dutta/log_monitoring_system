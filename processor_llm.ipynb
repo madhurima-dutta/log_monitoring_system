{
 "cells": [
  {
   "cell_type": "code",
   "execution_count": 34,
   "id": "839298d3",
   "metadata": {},
   "outputs": [
    {
     "name": "stdout",
     "output_type": "stream",
     "text": [
      "Requirement already satisfied: python-dotenv in c:\\users\\madhurima\\appdata\\local\\programs\\python\\python313\\lib\\site-packages (1.1.0)\n",
      "Note: you may need to restart the kernel to use updated packages.\n"
     ]
    }
   ],
   "source": [
    "pip install python-dotenv"
   ]
  },
  {
   "cell_type": "code",
   "execution_count": 35,
   "id": "6766c283",
   "metadata": {},
   "outputs": [],
   "source": [
    "from dotenv import load_dotenv\n",
    "from groq import Groq\n",
    "import json\n",
    "import re\n",
    "import os"
   ]
  },
  {
   "cell_type": "code",
   "execution_count": 36,
   "id": "d7518f90",
   "metadata": {},
   "outputs": [],
   "source": [
    "load_dotenv()\n",
    "\n",
    "groq = Groq()"
   ]
  },
  {
   "cell_type": "code",
   "execution_count": 37,
   "id": "952ad945",
   "metadata": {},
   "outputs": [],
   "source": [
    "def classify_with_llm(log_msg):\n",
    "    \"\"\"\n",
    "    Generate a variant of the input sentence. For example,\n",
    "    If input sentence is \"User session timed out unexpectedly, user ID: 9250.\",\n",
    "    variant would be \"Session timed out for user 9251\"\n",
    "    \"\"\"\n",
    "    prompt = f'''Classify the log message into one of these categories: \n",
    "    (1) Workflow Error, (2) Deprecation Warning.\n",
    "    If you can't figure out a category, use \"Unclassified\".\n",
    "    Put the category inside <category> </category> tags. \n",
    "    Log message: {log_msg}'''\n",
    "\n",
    "    chat_completion = groq.chat.completions.create(\n",
    "        messages=[{\"role\": \"user\", \"content\": prompt}],\n",
    "        # model=\"llama-3.3-70b-versatile\",\n",
    "        model=\"deepseek-r1-distill-llama-70b\",\n",
    "        temperature=0.5\n",
    "    )\n",
    "\n",
    "    content = chat_completion.choices[0].message.content\n",
    "    match = re.search(r'<category>(.*)<\\/category>', content, flags=re.DOTALL)\n",
    "    category = \"Unclassified\"\n",
    "    if match:\n",
    "        category = match.group(1)\n",
    "\n",
    "    return category\n"
   ]
  },
  {
   "cell_type": "code",
   "execution_count": 38,
   "id": "ec00dba0",
   "metadata": {},
   "outputs": [
    {
     "name": "stdout",
     "output_type": "stream",
     "text": [
      "Workflow Error\n",
      "Deprecation Warning\n",
      "Unclassified\n"
     ]
    }
   ],
   "source": [
    "if __name__ == \"__main__\":\n",
    "    print(classify_with_llm(\n",
    "        \"Case escalation for ticket ID 7324 failed because the assigned support agent is no longer active.\"))\n",
    "    print(classify_with_llm(\n",
    "        \"The 'ReportGenerator' module will be retired in version 4.0. Please migrate to the 'AdvancedAnalyticsSuite' by Dec 2025\"))\n",
    "    print(classify_with_llm(\"System reboot initiated by user 12345.\"))"
   ]
  }
 ],
 "metadata": {
  "kernelspec": {
   "display_name": "Python 3",
   "language": "python",
   "name": "python3"
  },
  "language_info": {
   "codemirror_mode": {
    "name": "ipython",
    "version": 3
   },
   "file_extension": ".py",
   "mimetype": "text/x-python",
   "name": "python",
   "nbconvert_exporter": "python",
   "pygments_lexer": "ipython3",
   "version": "3.13.3"
  }
 },
 "nbformat": 4,
 "nbformat_minor": 5
}
